{
 "cells": [
  {
   "cell_type": "code",
   "execution_count": 6,
   "id": "a9ae9512",
   "metadata": {},
   "outputs": [],
   "source": [
    "import numpy as np\n",
    "import pandas as pd\n",
    "import matplotlib.pyplot as plt\n",
    "import seaborn as sns"
   ]
  },
  {
   "cell_type": "code",
   "execution_count": 7,
   "id": "b0ead5f6",
   "metadata": {},
   "outputs": [
    {
     "name": "stdout",
     "output_type": "stream",
     "text": [
      "      VIN (1-10)    County     City State  Postal Code  Model Year     Make  \\\n",
      "0     5YJ3E1EBXK      King  Seattle    WA        98178        2019    TESLA   \n",
      "1     5YJYGDEE3L    Kitsap  Poulsbo    WA        98370        2020    TESLA   \n",
      "2     KM8KRDAF5P    Kitsap   Olalla    WA        98359        2023  HYUNDAI   \n",
      "3     5UXTA6C0XM    Kitsap  Seabeck    WA        98380        2021      BMW   \n",
      "4     JTMAB3FV7P  Thurston  Rainier    WA        98576        2023   TOYOTA   \n",
      "...          ...       ...      ...   ...          ...         ...      ...   \n",
      "1012  7SAYGDEE0P      King  Seattle    WA        98122        2023    TESLA   \n",
      "1013  KNDC3DLC4N      King  Seattle    WA        98133        2022      KIA   \n",
      "1014  WA1F2BFY5P      King  Seattle    WA        98146        2023     AUDI   \n",
      "1015  1C4RJYE68N      King  Seattle    WA        98115        2022     JEEP   \n",
      "1016  WBA33AG03N      King  Seattle    WA        98109        2022      BMW   \n",
      "\n",
      "               Model                   Electric Vehicle Type  \\\n",
      "0            MODEL 3          Battery Electric Vehicle (BEV)   \n",
      "1            MODEL Y          Battery Electric Vehicle (BEV)   \n",
      "2            IONIQ 5          Battery Electric Vehicle (BEV)   \n",
      "3                 X5  Plug-in Hybrid Electric Vehicle (PHEV)   \n",
      "4         RAV4 PRIME  Plug-in Hybrid Electric Vehicle (PHEV)   \n",
      "...              ...                                     ...   \n",
      "1012         MODEL Y          Battery Electric Vehicle (BEV)   \n",
      "1013             EV6          Battery Electric Vehicle (BEV)   \n",
      "1014            Q5 E  Plug-in Hybrid Electric Vehicle (PHEV)   \n",
      "1015  GRAND CHEROKEE  Plug-in Hybrid Electric Vehicle (PHEV)   \n",
      "1016            530E  Plug-in Hybrid Electric Vehicle (PHEV)   \n",
      "\n",
      "      Clean Alternative Fuel Vehicle (CAFV) Eligibility  Electric Range  \\\n",
      "0               Clean Alternative Fuel Vehicle Eligible             220   \n",
      "1               Clean Alternative Fuel Vehicle Eligible             291   \n",
      "2     Eligibility unknown as battery range has not b...               0   \n",
      "3               Clean Alternative Fuel Vehicle Eligible              30   \n",
      "4               Clean Alternative Fuel Vehicle Eligible              42   \n",
      "...                                                 ...             ...   \n",
      "1012  Eligibility unknown as battery range has not b...               0   \n",
      "1013  Eligibility unknown as battery range has not b...               0   \n",
      "1014              Not eligible due to low battery range              23   \n",
      "1015              Not eligible due to low battery range              25   \n",
      "1016              Not eligible due to low battery range              18   \n",
      "\n",
      "      Base MSRP  Legislative District  DOL Vehicle ID  \\\n",
      "0             0                    37       477309682   \n",
      "1             0                    23       109705683   \n",
      "2             0                    26       230390492   \n",
      "3             0                    35       267929112   \n",
      "4             0                     2       236505139   \n",
      "...         ...                   ...             ...   \n",
      "1012          0                    43       259912327   \n",
      "1013          0                    32       204702893   \n",
      "1014          0                    34       244836245   \n",
      "1015          0                    46       228075018   \n",
      "1016          0                    36       254074397   \n",
      "\n",
      "                 Vehicle Location  \\\n",
      "0     POINT (-122.23825 47.49461)   \n",
      "1     POINT (-122.64681 47.73689)   \n",
      "2     POINT (-122.54729 47.42602)   \n",
      "3     POINT (-122.81585 47.64509)   \n",
      "4     POINT (-122.68993 46.88897)   \n",
      "...                           ...   \n",
      "1012  POINT (-122.31009 47.60803)   \n",
      "1013  POINT (-122.35029 47.71871)   \n",
      "1014  POINT (-122.36178 47.49408)   \n",
      "1015  POINT (-122.31676 47.68156)   \n",
      "1016  POINT (-122.35022 47.63824)   \n",
      "\n",
      "                                  Electric Utility  2020 Census Tract  \n",
      "0     CITY OF SEATTLE - (WA)|CITY OF TACOMA - (WA)        53033011902  \n",
      "1                           PUGET SOUND ENERGY INC        53035091100  \n",
      "2                           PUGET SOUND ENERGY INC        53035092802  \n",
      "3                           PUGET SOUND ENERGY INC        53035091301  \n",
      "4                           PUGET SOUND ENERGY INC        53067012530  \n",
      "...                                            ...                ...  \n",
      "1012  CITY OF SEATTLE - (WA)|CITY OF TACOMA - (WA)        53033007502  \n",
      "1013  CITY OF SEATTLE - (WA)|CITY OF TACOMA - (WA)        53033000404  \n",
      "1014  CITY OF SEATTLE - (WA)|CITY OF TACOMA - (WA)        53033012100  \n",
      "1015  CITY OF SEATTLE - (WA)|CITY OF TACOMA - (WA)        53033002000  \n",
      "1016  CITY OF SEATTLE - (WA)|CITY OF TACOMA - (WA)        53033006701  \n",
      "\n",
      "[1017 rows x 17 columns]\n"
     ]
    }
   ],
   "source": [
    "df=pd.read_csv(\"Electric_Vehicle_Population_Data.csv\")\n",
    "print(df)"
   ]
  },
  {
   "cell_type": "markdown",
   "id": "32f96da2",
   "metadata": {},
   "source": [
    "#### Let's do the Inspection of the data  as in Exploratory Data Analysis we first Inspect the data.\n",
    "\n",
    "##### 1.So First lets get some information about the dataset by using info()"
   ]
  },
  {
   "cell_type": "code",
   "execution_count": 8,
   "id": "baf6cd16",
   "metadata": {},
   "outputs": [
    {
     "name": "stdout",
     "output_type": "stream",
     "text": [
      "<class 'pandas.core.frame.DataFrame'>\n",
      "RangeIndex: 1017 entries, 0 to 1016\n",
      "Data columns (total 17 columns):\n",
      " #   Column                                             Non-Null Count  Dtype \n",
      "---  ------                                             --------------  ----- \n",
      " 0   VIN (1-10)                                         1017 non-null   object\n",
      " 1   County                                             1017 non-null   object\n",
      " 2   City                                               1017 non-null   object\n",
      " 3   State                                              1017 non-null   object\n",
      " 4   Postal Code                                        1017 non-null   int64 \n",
      " 5   Model Year                                         1017 non-null   int64 \n",
      " 6   Make                                               1017 non-null   object\n",
      " 7   Model                                              1017 non-null   object\n",
      " 8   Electric Vehicle Type                              1017 non-null   object\n",
      " 9   Clean Alternative Fuel Vehicle (CAFV) Eligibility  1017 non-null   object\n",
      " 10  Electric Range                                     1017 non-null   int64 \n",
      " 11  Base MSRP                                          1017 non-null   int64 \n",
      " 12  Legislative District                               1017 non-null   int64 \n",
      " 13  DOL Vehicle ID                                     1017 non-null   int64 \n",
      " 14  Vehicle Location                                   1017 non-null   object\n",
      " 15  Electric Utility                                   1017 non-null   object\n",
      " 16  2020 Census Tract                                  1017 non-null   int64 \n",
      "dtypes: int64(7), object(10)\n",
      "memory usage: 135.2+ KB\n"
     ]
    }
   ],
   "source": [
    "df.info()"
   ]
  },
  {
   "cell_type": "markdown",
   "id": "aaefa33c",
   "metadata": {},
   "source": [
    "##### 2.Let's see the first 5 rows for better understanding by using head() "
   ]
  },
  {
   "cell_type": "code",
   "execution_count": 9,
   "id": "cf28d381",
   "metadata": {},
   "outputs": [
    {
     "data": {
      "text/html": [
       "<div>\n",
       "<style scoped>\n",
       "    .dataframe tbody tr th:only-of-type {\n",
       "        vertical-align: middle;\n",
       "    }\n",
       "\n",
       "    .dataframe tbody tr th {\n",
       "        vertical-align: top;\n",
       "    }\n",
       "\n",
       "    .dataframe thead th {\n",
       "        text-align: right;\n",
       "    }\n",
       "</style>\n",
       "<table border=\"1\" class=\"dataframe\">\n",
       "  <thead>\n",
       "    <tr style=\"text-align: right;\">\n",
       "      <th></th>\n",
       "      <th>VIN (1-10)</th>\n",
       "      <th>County</th>\n",
       "      <th>City</th>\n",
       "      <th>State</th>\n",
       "      <th>Postal Code</th>\n",
       "      <th>Model Year</th>\n",
       "      <th>Make</th>\n",
       "      <th>Model</th>\n",
       "      <th>Electric Vehicle Type</th>\n",
       "      <th>Clean Alternative Fuel Vehicle (CAFV) Eligibility</th>\n",
       "      <th>Electric Range</th>\n",
       "      <th>Base MSRP</th>\n",
       "      <th>Legislative District</th>\n",
       "      <th>DOL Vehicle ID</th>\n",
       "      <th>Vehicle Location</th>\n",
       "      <th>Electric Utility</th>\n",
       "      <th>2020 Census Tract</th>\n",
       "    </tr>\n",
       "  </thead>\n",
       "  <tbody>\n",
       "    <tr>\n",
       "      <th>0</th>\n",
       "      <td>5YJ3E1EBXK</td>\n",
       "      <td>King</td>\n",
       "      <td>Seattle</td>\n",
       "      <td>WA</td>\n",
       "      <td>98178</td>\n",
       "      <td>2019</td>\n",
       "      <td>TESLA</td>\n",
       "      <td>MODEL 3</td>\n",
       "      <td>Battery Electric Vehicle (BEV)</td>\n",
       "      <td>Clean Alternative Fuel Vehicle Eligible</td>\n",
       "      <td>220</td>\n",
       "      <td>0</td>\n",
       "      <td>37</td>\n",
       "      <td>477309682</td>\n",
       "      <td>POINT (-122.23825 47.49461)</td>\n",
       "      <td>CITY OF SEATTLE - (WA)|CITY OF TACOMA - (WA)</td>\n",
       "      <td>53033011902</td>\n",
       "    </tr>\n",
       "    <tr>\n",
       "      <th>1</th>\n",
       "      <td>5YJYGDEE3L</td>\n",
       "      <td>Kitsap</td>\n",
       "      <td>Poulsbo</td>\n",
       "      <td>WA</td>\n",
       "      <td>98370</td>\n",
       "      <td>2020</td>\n",
       "      <td>TESLA</td>\n",
       "      <td>MODEL Y</td>\n",
       "      <td>Battery Electric Vehicle (BEV)</td>\n",
       "      <td>Clean Alternative Fuel Vehicle Eligible</td>\n",
       "      <td>291</td>\n",
       "      <td>0</td>\n",
       "      <td>23</td>\n",
       "      <td>109705683</td>\n",
       "      <td>POINT (-122.64681 47.73689)</td>\n",
       "      <td>PUGET SOUND ENERGY INC</td>\n",
       "      <td>53035091100</td>\n",
       "    </tr>\n",
       "    <tr>\n",
       "      <th>2</th>\n",
       "      <td>KM8KRDAF5P</td>\n",
       "      <td>Kitsap</td>\n",
       "      <td>Olalla</td>\n",
       "      <td>WA</td>\n",
       "      <td>98359</td>\n",
       "      <td>2023</td>\n",
       "      <td>HYUNDAI</td>\n",
       "      <td>IONIQ 5</td>\n",
       "      <td>Battery Electric Vehicle (BEV)</td>\n",
       "      <td>Eligibility unknown as battery range has not b...</td>\n",
       "      <td>0</td>\n",
       "      <td>0</td>\n",
       "      <td>26</td>\n",
       "      <td>230390492</td>\n",
       "      <td>POINT (-122.54729 47.42602)</td>\n",
       "      <td>PUGET SOUND ENERGY INC</td>\n",
       "      <td>53035092802</td>\n",
       "    </tr>\n",
       "    <tr>\n",
       "      <th>3</th>\n",
       "      <td>5UXTA6C0XM</td>\n",
       "      <td>Kitsap</td>\n",
       "      <td>Seabeck</td>\n",
       "      <td>WA</td>\n",
       "      <td>98380</td>\n",
       "      <td>2021</td>\n",
       "      <td>BMW</td>\n",
       "      <td>X5</td>\n",
       "      <td>Plug-in Hybrid Electric Vehicle (PHEV)</td>\n",
       "      <td>Clean Alternative Fuel Vehicle Eligible</td>\n",
       "      <td>30</td>\n",
       "      <td>0</td>\n",
       "      <td>35</td>\n",
       "      <td>267929112</td>\n",
       "      <td>POINT (-122.81585 47.64509)</td>\n",
       "      <td>PUGET SOUND ENERGY INC</td>\n",
       "      <td>53035091301</td>\n",
       "    </tr>\n",
       "    <tr>\n",
       "      <th>4</th>\n",
       "      <td>JTMAB3FV7P</td>\n",
       "      <td>Thurston</td>\n",
       "      <td>Rainier</td>\n",
       "      <td>WA</td>\n",
       "      <td>98576</td>\n",
       "      <td>2023</td>\n",
       "      <td>TOYOTA</td>\n",
       "      <td>RAV4 PRIME</td>\n",
       "      <td>Plug-in Hybrid Electric Vehicle (PHEV)</td>\n",
       "      <td>Clean Alternative Fuel Vehicle Eligible</td>\n",
       "      <td>42</td>\n",
       "      <td>0</td>\n",
       "      <td>2</td>\n",
       "      <td>236505139</td>\n",
       "      <td>POINT (-122.68993 46.88897)</td>\n",
       "      <td>PUGET SOUND ENERGY INC</td>\n",
       "      <td>53067012530</td>\n",
       "    </tr>\n",
       "  </tbody>\n",
       "</table>\n",
       "</div>"
      ],
      "text/plain": [
       "   VIN (1-10)    County     City State  Postal Code  Model Year     Make  \\\n",
       "0  5YJ3E1EBXK      King  Seattle    WA        98178        2019    TESLA   \n",
       "1  5YJYGDEE3L    Kitsap  Poulsbo    WA        98370        2020    TESLA   \n",
       "2  KM8KRDAF5P    Kitsap   Olalla    WA        98359        2023  HYUNDAI   \n",
       "3  5UXTA6C0XM    Kitsap  Seabeck    WA        98380        2021      BMW   \n",
       "4  JTMAB3FV7P  Thurston  Rainier    WA        98576        2023   TOYOTA   \n",
       "\n",
       "        Model                   Electric Vehicle Type  \\\n",
       "0     MODEL 3          Battery Electric Vehicle (BEV)   \n",
       "1     MODEL Y          Battery Electric Vehicle (BEV)   \n",
       "2     IONIQ 5          Battery Electric Vehicle (BEV)   \n",
       "3          X5  Plug-in Hybrid Electric Vehicle (PHEV)   \n",
       "4  RAV4 PRIME  Plug-in Hybrid Electric Vehicle (PHEV)   \n",
       "\n",
       "   Clean Alternative Fuel Vehicle (CAFV) Eligibility  Electric Range  \\\n",
       "0            Clean Alternative Fuel Vehicle Eligible             220   \n",
       "1            Clean Alternative Fuel Vehicle Eligible             291   \n",
       "2  Eligibility unknown as battery range has not b...               0   \n",
       "3            Clean Alternative Fuel Vehicle Eligible              30   \n",
       "4            Clean Alternative Fuel Vehicle Eligible              42   \n",
       "\n",
       "   Base MSRP  Legislative District  DOL Vehicle ID  \\\n",
       "0          0                    37       477309682   \n",
       "1          0                    23       109705683   \n",
       "2          0                    26       230390492   \n",
       "3          0                    35       267929112   \n",
       "4          0                     2       236505139   \n",
       "\n",
       "              Vehicle Location                              Electric Utility  \\\n",
       "0  POINT (-122.23825 47.49461)  CITY OF SEATTLE - (WA)|CITY OF TACOMA - (WA)   \n",
       "1  POINT (-122.64681 47.73689)                        PUGET SOUND ENERGY INC   \n",
       "2  POINT (-122.54729 47.42602)                        PUGET SOUND ENERGY INC   \n",
       "3  POINT (-122.81585 47.64509)                        PUGET SOUND ENERGY INC   \n",
       "4  POINT (-122.68993 46.88897)                        PUGET SOUND ENERGY INC   \n",
       "\n",
       "   2020 Census Tract  \n",
       "0        53033011902  \n",
       "1        53035091100  \n",
       "2        53035092802  \n",
       "3        53035091301  \n",
       "4        53067012530  "
      ]
     },
     "execution_count": 9,
     "metadata": {},
     "output_type": "execute_result"
    }
   ],
   "source": [
    "df.head()\n"
   ]
  },
  {
   "cell_type": "markdown",
   "id": "e2d73e22",
   "metadata": {},
   "source": [
    "##### 3.For getting the statistical information we will be using .describe()"
   ]
  },
  {
   "cell_type": "code",
   "execution_count": 10,
   "id": "f7fcbb9a",
   "metadata": {},
   "outputs": [
    {
     "data": {
      "text/html": [
       "<div>\n",
       "<style scoped>\n",
       "    .dataframe tbody tr th:only-of-type {\n",
       "        vertical-align: middle;\n",
       "    }\n",
       "\n",
       "    .dataframe tbody tr th {\n",
       "        vertical-align: top;\n",
       "    }\n",
       "\n",
       "    .dataframe thead th {\n",
       "        text-align: right;\n",
       "    }\n",
       "</style>\n",
       "<table border=\"1\" class=\"dataframe\">\n",
       "  <thead>\n",
       "    <tr style=\"text-align: right;\">\n",
       "      <th></th>\n",
       "      <th>Postal Code</th>\n",
       "      <th>Model Year</th>\n",
       "      <th>Electric Range</th>\n",
       "      <th>Base MSRP</th>\n",
       "      <th>Legislative District</th>\n",
       "      <th>DOL Vehicle ID</th>\n",
       "      <th>2020 Census Tract</th>\n",
       "    </tr>\n",
       "  </thead>\n",
       "  <tbody>\n",
       "    <tr>\n",
       "      <th>count</th>\n",
       "      <td>1017.000000</td>\n",
       "      <td>1017.000000</td>\n",
       "      <td>1017.000000</td>\n",
       "      <td>1017.000000</td>\n",
       "      <td>1017.000000</td>\n",
       "      <td>1.017000e+03</td>\n",
       "      <td>1.017000e+03</td>\n",
       "    </tr>\n",
       "    <tr>\n",
       "      <th>mean</th>\n",
       "      <td>98236.195674</td>\n",
       "      <td>2020.781711</td>\n",
       "      <td>69.365782</td>\n",
       "      <td>1081.710914</td>\n",
       "      <td>30.548673</td>\n",
       "      <td>2.319944e+08</td>\n",
       "      <td>5.303936e+10</td>\n",
       "    </tr>\n",
       "    <tr>\n",
       "      <th>std</th>\n",
       "      <td>284.230509</td>\n",
       "      <td>3.188862</td>\n",
       "      <td>96.417736</td>\n",
       "      <td>7889.976686</td>\n",
       "      <td>15.158865</td>\n",
       "      <td>8.042506e+07</td>\n",
       "      <td>1.630303e+07</td>\n",
       "    </tr>\n",
       "    <tr>\n",
       "      <th>min</th>\n",
       "      <td>98002.000000</td>\n",
       "      <td>2011.000000</td>\n",
       "      <td>0.000000</td>\n",
       "      <td>0.000000</td>\n",
       "      <td>1.000000</td>\n",
       "      <td>1.860498e+06</td>\n",
       "      <td>5.300796e+10</td>\n",
       "    </tr>\n",
       "    <tr>\n",
       "      <th>25%</th>\n",
       "      <td>98033.000000</td>\n",
       "      <td>2018.000000</td>\n",
       "      <td>0.000000</td>\n",
       "      <td>0.000000</td>\n",
       "      <td>18.000000</td>\n",
       "      <td>1.904155e+08</td>\n",
       "      <td>5.303301e+10</td>\n",
       "    </tr>\n",
       "    <tr>\n",
       "      <th>50%</th>\n",
       "      <td>98117.000000</td>\n",
       "      <td>2022.000000</td>\n",
       "      <td>18.000000</td>\n",
       "      <td>0.000000</td>\n",
       "      <td>35.000000</td>\n",
       "      <td>2.449228e+08</td>\n",
       "      <td>5.303303e+10</td>\n",
       "    </tr>\n",
       "    <tr>\n",
       "      <th>75%</th>\n",
       "      <td>98359.000000</td>\n",
       "      <td>2023.000000</td>\n",
       "      <td>114.000000</td>\n",
       "      <td>0.000000</td>\n",
       "      <td>45.000000</td>\n",
       "      <td>2.690951e+08</td>\n",
       "      <td>5.303509e+10</td>\n",
       "    </tr>\n",
       "    <tr>\n",
       "      <th>max</th>\n",
       "      <td>99362.000000</td>\n",
       "      <td>2025.000000</td>\n",
       "      <td>322.000000</td>\n",
       "      <td>69900.000000</td>\n",
       "      <td>49.000000</td>\n",
       "      <td>4.787921e+08</td>\n",
       "      <td>5.307794e+10</td>\n",
       "    </tr>\n",
       "  </tbody>\n",
       "</table>\n",
       "</div>"
      ],
      "text/plain": [
       "        Postal Code   Model Year  Electric Range     Base MSRP  \\\n",
       "count   1017.000000  1017.000000     1017.000000   1017.000000   \n",
       "mean   98236.195674  2020.781711       69.365782   1081.710914   \n",
       "std      284.230509     3.188862       96.417736   7889.976686   \n",
       "min    98002.000000  2011.000000        0.000000      0.000000   \n",
       "25%    98033.000000  2018.000000        0.000000      0.000000   \n",
       "50%    98117.000000  2022.000000       18.000000      0.000000   \n",
       "75%    98359.000000  2023.000000      114.000000      0.000000   \n",
       "max    99362.000000  2025.000000      322.000000  69900.000000   \n",
       "\n",
       "       Legislative District  DOL Vehicle ID  2020 Census Tract  \n",
       "count           1017.000000    1.017000e+03       1.017000e+03  \n",
       "mean              30.548673    2.319944e+08       5.303936e+10  \n",
       "std               15.158865    8.042506e+07       1.630303e+07  \n",
       "min                1.000000    1.860498e+06       5.300796e+10  \n",
       "25%               18.000000    1.904155e+08       5.303301e+10  \n",
       "50%               35.000000    2.449228e+08       5.303303e+10  \n",
       "75%               45.000000    2.690951e+08       5.303509e+10  \n",
       "max               49.000000    4.787921e+08       5.307794e+10  "
      ]
     },
     "execution_count": 10,
     "metadata": {},
     "output_type": "execute_result"
    }
   ],
   "source": [
    "df.describe()"
   ]
  },
  {
   "cell_type": "code",
   "execution_count": null,
   "id": "9e31ed65",
   "metadata": {},
   "outputs": [],
   "source": []
  },
  {
   "cell_type": "code",
   "execution_count": null,
   "id": "3567accc",
   "metadata": {},
   "outputs": [],
   "source": [
    "\n"
   ]
  },
  {
   "cell_type": "markdown",
   "id": "10cf3228",
   "metadata": {},
   "source": [
    "### Let's come to the data Preprocesssing part\n",
    "#### 4.Let's see it there is any missing value present or not .If there is there we will handel it"
   ]
  },
  {
   "cell_type": "code",
   "execution_count": 27,
   "id": "57479aee",
   "metadata": {},
   "outputs": [
    {
     "data": {
      "text/plain": [
       "VIN (1-10)                                           0\n",
       "County                                               0\n",
       "City                                                 0\n",
       "State                                                0\n",
       "Postal Code                                          0\n",
       "Model Year                                           0\n",
       "Make                                                 0\n",
       "Model                                                0\n",
       "Electric Vehicle Type                                0\n",
       "Clean Alternative Fuel Vehicle (CAFV) Eligibility    0\n",
       "Electric Range                                       0\n",
       "Base MSRP                                            0\n",
       "Legislative District                                 0\n",
       "DOL Vehicle ID                                       0\n",
       "Vehicle Location                                     0\n",
       "Electric Utility                                     0\n",
       "2020 Census Tract                                    0\n",
       "dtype: int64"
      ]
     },
     "execution_count": 27,
     "metadata": {},
     "output_type": "execute_result"
    }
   ],
   "source": [
    "df.isnull().sum()"
   ]
  },
  {
   "cell_type": "code",
   "execution_count": 12,
   "id": "c43084e0",
   "metadata": {},
   "outputs": [],
   "source": [
    "df['Electric Range']=df['Electric Range'].fillna(df['Electric Range'].median())\n",
    "df['Base MSRP']=df['Base MSRP'].fillna(df['Base MSRP'].median())\n",
    "df.dropna(subset=['Legislative District'],inplace =True)\n",
    "df.dropna(subset=['Vehicle Location'],inplace=True)\n"
   ]
  },
  {
   "cell_type": "code",
   "execution_count": 13,
   "id": "a6a28b88",
   "metadata": {},
   "outputs": [
    {
     "data": {
      "text/plain": [
       "VIN (1-10)                                           0\n",
       "County                                               0\n",
       "City                                                 0\n",
       "State                                                0\n",
       "Postal Code                                          0\n",
       "Model Year                                           0\n",
       "Make                                                 0\n",
       "Model                                                0\n",
       "Electric Vehicle Type                                0\n",
       "Clean Alternative Fuel Vehicle (CAFV) Eligibility    0\n",
       "Electric Range                                       0\n",
       "Base MSRP                                            0\n",
       "Legislative District                                 0\n",
       "DOL Vehicle ID                                       0\n",
       "Vehicle Location                                     0\n",
       "Electric Utility                                     0\n",
       "2020 Census Tract                                    0\n",
       "dtype: int64"
      ]
     },
     "execution_count": 13,
     "metadata": {},
     "output_type": "execute_result"
    }
   ],
   "source": [
    "df.isnull().sum()"
   ]
  },
  {
   "cell_type": "markdown",
   "id": "f7e990b3",
   "metadata": {},
   "source": [
    "##### Let's remove the duplicate now and make some changes in the Electric Vehicle Type Column"
   ]
  },
  {
   "cell_type": "code",
   "execution_count": 32,
   "id": "ae31bbbf",
   "metadata": {},
   "outputs": [],
   "source": [
    "df.drop_duplicates(inplace=True)"
   ]
  },
  {
   "cell_type": "code",
   "execution_count": 33,
   "id": "ecb6bec0",
   "metadata": {},
   "outputs": [],
   "source": [
    "df['Model Year'] = df['Model Year'].astype(int)\n",
    "\n",
    "def simplify_ev_type(ev_type):\n",
    "    if ev_type == 'Battery Electric Vehicle (BEV)':\n",
    "        return 'BEV'\n",
    "    elif ev_type == 'Plug-in Hybrid Electric Vehicle (PHEV)':\n",
    "        return 'PHEV'\n",
    "    else:\n",
    "        return ev_type  \n",
    "\n",
    "df['Electric Vehicle Type'] = df['Electric Vehicle Type'].apply(simplify_ev_type)"
   ]
  },
  {
   "cell_type": "markdown",
   "id": "d5821731",
   "metadata": {},
   "source": [
    "### Data Visualization \n"
   ]
  },
  {
   "cell_type": "code",
   "execution_count": 35,
   "id": "2c0a323b",
   "metadata": {},
   "outputs": [
    {
     "data": {
      "text/plain": [
       "Text(0.5, 1.0, 'No of electric vehicle produced by PHEV and BEV')"
      ]
     },
     "execution_count": 35,
     "metadata": {},
     "output_type": "execute_result"
    },
    {
     "data": {
      "image/png": "[encoded data removed]",
      "text/plain": [
       "<Figure size 640x480 with 1 Axes>"
      ]
     },
     "metadata": {},
     "output_type": "display_data"
    }
   ],
   "source": [
    "df['Electric Vehicle Type'].value_counts().plot(kind='bar', color='lightblue')\n",
    "plt.title(\"No of electric vehicle produced by PHEV and BEV\")"
   ]
  },
  {
   "cell_type": "code",
   "execution_count": 59,
   "id": "dba662cc",
   "metadata": {},
   "outputs": [
    {
     "data": {
      "text/plain": [
       "Text(0.5, 1.0, 'Top cities with most Evs')"
      ]
     },
     "execution_count": 59,
     "metadata": {},
     "output_type": "execute_result"
    },
    {
     "data": {
      "image/png": "[encoded data removed]",
      "text/plain": [
       "<Figure size 800x500 with 1 Axes>"
      ]
     },
     "metadata": {},
     "output_type": "display_data"
    }
   ],
   "source": [
    "plt.figure(figsize=(8, 5))\n",
    "df['City'].value_counts().head(10).plot(kind='barh', color='lightgreen')\n",
    "plt.title(\"Top cities with most Evs\")"
   ]
  },
  {
   "cell_type": "code",
   "execution_count": 62,
   "id": "1bb4e87f",
   "metadata": {},
   "outputs": [
    {
     "data": {
      "text/plain": [
       "Text(0.5, 1.0, 'Distribution of Electric Vehicle')"
      ]
     },
     "execution_count": 62,
     "metadata": {},
     "output_type": "execute_result"
    },
    {
     "data": {
      "image/png": "[encoded data removed]",
      "text/plain": [
       "<Figure size 640x480 with 1 Axes>"
      ]
     },
     "metadata": {},
     "output_type": "display_data"
    }
   ],
   "source": [
    "df['Electric Vehicle Type'].value_counts().plot(kind='pie', autopct='%1.1f%%')\n",
    "plt.title(\"Distribution of Electric Vehicle\")"
   ]
  },
  {
   "cell_type": "code",
   "execution_count": null,
   "id": "9bdd8f20",
   "metadata": {},
   "outputs": [],
   "source": []
  }
 ],
 "metadata": {
  "kernelspec": {
   "display_name": "base",
   "language": "python",
   "name": "python3"
  },
  "language_info": {
   "codemirror_mode": {
    "name": "ipython",
    "version": 3
   },
   "file_extension": ".py",
   "mimetype": "text/x-python",
   "name": "python",
   "nbconvert_exporter": "python",
   "pygments_lexer": "ipython3",
   "version": "3.11.5"
  }
 },
 "nbformat": 4,
 "nbformat_minor": 5
}
