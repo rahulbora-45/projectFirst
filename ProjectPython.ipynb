{
 "cells": [
  {
   "cell_type": "code",
   "execution_count": 3,
   "id": "a9ae9512",
   "metadata": {},
   "outputs": [],
   "source": [
    "import numpy as np\n",
    "import pandas as pd\n",
    "import matplotlib.pyplot as plt\n",
    "import seaborn as sns"
   ]
  },
  {
   "cell_type": "code",
   "execution_count": 5,
   "id": "b0ead5f6",
   "metadata": {},
   "outputs": [
    {
     "name": "stdout",
     "output_type": "stream",
     "text": [
      "       VIN (1-10)     County           City State  Postal Code  Model Year  \\\n",
      "0      5YJ3E1EBXK       King        Seattle    WA      98178.0        2019   \n",
      "1      5YJYGDEE3L     Kitsap        Poulsbo    WA      98370.0        2020   \n",
      "2      KM8KRDAF5P     Kitsap         Olalla    WA      98359.0        2023   \n",
      "3      5UXTA6C0XM     Kitsap        Seabeck    WA      98380.0        2021   \n",
      "4      JTMAB3FV7P   Thurston        Rainier    WA      98576.0        2023   \n",
      "...           ...        ...            ...   ...          ...         ...   \n",
      "83559  5YJ3E1EA0N     Island  Camano Island    WA      98282.0        2022   \n",
      "83560  5YJ3E1EAXP       King        Seattle    WA      98115.0        2023   \n",
      "83561  1FADP5FU3H  Snohomish      Snohomish    WA      98290.0        2017   \n",
      "83562  1G1RE6E47E   Thurston        Olympia    WA      98506.0        2014   \n",
      "83563  WVWPP7AU9G       King         Duvall    WA      98019.0        2016   \n",
      "\n",
      "             Make       Model                   Electric Vehicle Type  \\\n",
      "0           TESLA     MODEL 3          Battery Electric Vehicle (BEV)   \n",
      "1           TESLA     MODEL Y          Battery Electric Vehicle (BEV)   \n",
      "2         HYUNDAI     IONIQ 5          Battery Electric Vehicle (BEV)   \n",
      "3             BMW          X5  Plug-in Hybrid Electric Vehicle (PHEV)   \n",
      "4          TOYOTA  RAV4 PRIME  Plug-in Hybrid Electric Vehicle (PHEV)   \n",
      "...           ...         ...                                     ...   \n",
      "83559       TESLA     MODEL 3          Battery Electric Vehicle (BEV)   \n",
      "83560       TESLA     MODEL 3          Battery Electric Vehicle (BEV)   \n",
      "83561        FORD       C-MAX  Plug-in Hybrid Electric Vehicle (PHEV)   \n",
      "83562   CHEVROLET        VOLT  Plug-in Hybrid Electric Vehicle (PHEV)   \n",
      "83563  VOLKSWAGEN      E-GOLF          Battery Electric Vehicle (BEV)   \n",
      "\n",
      "       Clean Alternative Fuel Vehicle (CAFV) Eligibility  Electric Range  \\\n",
      "0                Clean Alternative Fuel Vehicle Eligible           220.0   \n",
      "1                Clean Alternative Fuel Vehicle Eligible           291.0   \n",
      "2      Eligibility unknown as battery range has not b...             0.0   \n",
      "3                Clean Alternative Fuel Vehicle Eligible            30.0   \n",
      "4                Clean Alternative Fuel Vehicle Eligible            42.0   \n",
      "...                                                  ...             ...   \n",
      "83559  Eligibility unknown as battery range has not b...             0.0   \n",
      "83560  Eligibility unknown as battery range has not b...             0.0   \n",
      "83561              Not eligible due to low battery range            20.0   \n",
      "83562            Clean Alternative Fuel Vehicle Eligible            38.0   \n",
      "83563            Clean Alternative Fuel Vehicle Eligible            83.0   \n",
      "\n",
      "       Base MSRP  Legislative District  DOL Vehicle ID  \\\n",
      "0            0.0                  37.0       477309682   \n",
      "1            0.0                  23.0       109705683   \n",
      "2            0.0                  26.0       230390492   \n",
      "3            0.0                  35.0       267929112   \n",
      "4            0.0                   2.0       236505139   \n",
      "...          ...                   ...             ...   \n",
      "83559        0.0                  10.0       183450795   \n",
      "83560        0.0                  46.0       260571405   \n",
      "83561        0.0                  44.0       310149668   \n",
      "83562        0.0                  22.0       178850213   \n",
      "83563        0.0                  45.0       101349377   \n",
      "\n",
      "                  Vehicle Location  \\\n",
      "0      POINT (-122.23825 47.49461)   \n",
      "1      POINT (-122.64681 47.73689)   \n",
      "2      POINT (-122.54729 47.42602)   \n",
      "3      POINT (-122.81585 47.64509)   \n",
      "4      POINT (-122.68993 46.88897)   \n",
      "...                            ...   \n",
      "83559  POINT (-122.40049 48.23986)   \n",
      "83560  POINT (-122.31676 47.68156)   \n",
      "83561  POINT (-122.09305 47.91265)   \n",
      "83562  POINT (-122.87741 47.05997)   \n",
      "83563  POINT (-121.98609 47.74068)   \n",
      "\n",
      "                                        Electric Utility  2020 Census Tract  \n",
      "0           CITY OF SEATTLE - (WA)|CITY OF TACOMA - (WA)       5.303301e+10  \n",
      "1                                 PUGET SOUND ENERGY INC       5.303509e+10  \n",
      "2                                 PUGET SOUND ENERGY INC       5.303509e+10  \n",
      "3                                 PUGET SOUND ENERGY INC       5.303509e+10  \n",
      "4                                 PUGET SOUND ENERGY INC       5.306701e+10  \n",
      "...                                                  ...                ...  \n",
      "83559  BONNEVILLE POWER ADMINISTRATION||PUD 1 OF SNOH...       5.302997e+10  \n",
      "83560      PUGET SOUND ENERGY INC||CITY OF TACOMA - (WA)       5.303300e+10  \n",
      "83561                             PUGET SOUND ENERGY INC       5.306105e+10  \n",
      "83562                             PUGET SOUND ENERGY INC       5.306701e+10  \n",
      "83563      PUGET SOUND ENERGY INC||CITY OF TACOMA - (WA)       5.303303e+10  \n",
      "\n",
      "[83564 rows x 17 columns]\n"
     ]
    }
   ],
   "source": [
    "df=pd.read_csv(\"Electric_Vehicle_Population_Data.csv\")\n",
    "print(df)"
   ]
  },
  {
   "cell_type": "markdown",
   "id": "32f96da2",
   "metadata": {},
   "source": []
  },
  {
   "cell_type": "code",
   "execution_count": null,
   "id": "baf6cd16",
   "metadata": {},
   "outputs": [],
   "source": []
  }
 ],
 "metadata": {
  "kernelspec": {
   "display_name": "base",
   "language": "python",
   "name": "python3"
  },
  "language_info": {
   "codemirror_mode": {
    "name": "ipython",
    "version": 3
   },
   "file_extension": ".py",
   "mimetype": "text/x-python",
   "name": "python",
   "nbconvert_exporter": "python",
   "pygments_lexer": "ipython3",
   "version": "3.11.5"
  }
 },
 "nbformat": 4,
 "nbformat_minor": 5
}
